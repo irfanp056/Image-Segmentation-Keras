{
  "cells": [
    {
      "cell_type": "markdown",
      "metadata": {
        "id": "1Tx3g-Md85H7"
      },
      "source": [
        "# Image Segmentation with a U-Net-like architecture\n",
        "\n",
        "**Description:** Image segmentation model trained from scratch on the Oxford Pets dataset."
      ]
    },
    {
      "cell_type": "markdown",
      "metadata": {
        "id": "gTz6cgPa85H_"
      },
      "source": [
        "This tutorial uses a U-Net like architecture for image segmentation. Data processing and\n",
        "augmentations are implemented with [KerasCV](https://keras.io/keras_cv/).\n",
        "\n",
        "U-Net was introduced in the paper,\n",
        "[U-Net: Convolutional Networks for Biomedical Image Segmentation](https://arxiv.org/abs/1505.04597/).\n",
        "Although U-Net is a model for image\n",
        "segmentation, it's also used in generative models such as Pix2Pix and diffusion models.\n",
        "So it's important to have a solid understanding of its architecture."
      ]
    },
    {
      "cell_type": "markdown",
      "metadata": {
        "id": "6kDDKbLq85IA"
      },
      "source": [
        "## Setup and Imports\n",
        "\n",
        "First let's set up install and imports of the dependencies.\n",
        "\n",
        "To run this tutorial, you will need to install keras-cv with the following command:\n",
        "`pip install keras-cv`"
      ]
    },
    {
      "cell_type": "code",
      "execution_count": 3,
      "metadata": {
        "id": "5ZwXMVq_85IA"
      },
      "outputs": [],
      "source": [
        "import random\n",
        "\n",
        "import keras\n",
        "import keras_cv\n",
        "import numpy as np\n",
        "import tensorflow as tf\n",
        "import tensorflow_datasets as tfds\n",
        "from matplotlib import pyplot as plt"
      ]
    },
    {
      "cell_type": "markdown",
      "metadata": {
        "id": "tZsFAd-685IC"
      },
      "source": [
        "## Configuration\n",
        "\n",
        "Please feel free to tweak the configurations yourself and note how the model training\n",
        "changes. This is an excellent exercise to get a better understanding of the training\n",
        "pipeline."
      ]
    },
    {
      "cell_type": "code",
      "execution_count": 4,
      "metadata": {
        "id": "3wjqbw1w85IC"
      },
      "outputs": [],
      "source": [
        "# Image Config\n",
        "HEIGHT = 160\n",
        "WIDTH = 160\n",
        "NUM_CLASSES = 3\n",
        "\n",
        "# Augmentation Config\n",
        "ROTATION_FACTOR = (-0.2, 0.2)\n",
        "\n",
        "# Training Config\n",
        "BATCH_SIZE = 128\n",
        "EPOCHS = 50\n",
        "LEARNING_RATE = 1e-4\n",
        "AUTOTUNE = tf.data.AUTOTUNE"
      ]
    },
    {
      "cell_type": "markdown",
      "metadata": {
        "id": "9xCUYwfn85IC"
      },
      "source": [
        "## Download the data\n",
        "\n",
        "We download\n",
        "[the Oxford-IIT Pet dataset](https://www.tensorflow.org/datasets/catalog/oxford_iiit_pet)\n",
        "with TensorFlow\n",
        "Datasets (TFDS) with one line of code. Combine the training and test data, and then split\n",
        "the combined data into 80% training dataset and 20% test dataset (used later on for both\n",
        "validation and testing)."
      ]
    },
    {
      "cell_type": "code",
      "execution_count": null,
      "metadata": {
        "id": "kuL5T_ZO85ID"
      },
      "outputs": [],
      "source": [
        "tfds.disable_progress_bar()\n",
        "orig_train_ds, orig_val_ds = tfds.load(\n",
        "    name=\"oxford_iiit_pet\",\n",
        "    split=[\"train+test[:80%]\", \"test[80%:]\"],\n",
        ")"
      ]
    },
    {
      "cell_type": "markdown",
      "metadata": {
        "id": "8aGUz2j_85ID"
      },
      "source": [
        "## Preprocess the data\n",
        "\n",
        "Here we processes the images and segmentation masks in the inputs **dictionary**, mapping\n",
        "the image pixel intensities from `[0, 255]` to the range `[0.0, 1.0]` and adjusting\n",
        "segmentation masks indices from 1-based to 0-based.\n",
        "\n",
        "Also note the renaming of the keys of the dictionary. The processed datasets are\n",
        "formatted suitably for KerasCV layers, which expect inputs in a specific dictionary\n",
        "format."
      ]
    },
    {
      "cell_type": "code",
      "execution_count": null,
      "metadata": {
        "id": "vVU-UXI185IE"
      },
      "outputs": [],
      "source": [
        "rescale_images_and_correct_masks = lambda inputs: {\n",
        "    \"images\": tf.cast(inputs[\"image\"], dtype=tf.float32) / 255.0,\n",
        "    \"segmentation_masks\": inputs[\"segmentation_mask\"] - 1,\n",
        "}\n",
        "\n",
        "train_ds = orig_train_ds.map(\n",
        "    rescale_images_and_correct_masks, num_parallel_calls=AUTOTUNE\n",
        ")\n",
        "val_ds = orig_val_ds.map(rescale_images_and_correct_masks, num_parallel_calls=AUTOTUNE)"
      ]
    },
    {
      "cell_type": "markdown",
      "metadata": {
        "id": "_4Z8j0oN85IE"
      },
      "source": [
        "## Utility Function\n",
        "\n",
        "The `unpackage_inputs` is a utility function that is used to unpack the inputs from the\n",
        "dictionary format to a tuple of `(images, segmentation_masks)`. This will be used later\n",
        "on for visualizing the images and segmentation masks and also the model predictions."
      ]
    },
    {
      "cell_type": "code",
      "execution_count": null,
      "metadata": {
        "id": "2evkTvJZ85IF"
      },
      "outputs": [],
      "source": [
        "\n",
        "def unpackage_inputs(inputs):\n",
        "    images = inputs[\"images\"]\n",
        "    segmentation_masks = inputs[\"segmentation_masks\"]\n",
        "    return images, segmentation_masks\n"
      ]
    },
    {
      "cell_type": "markdown",
      "metadata": {
        "id": "22U5vpeM85IF"
      },
      "source": [
        "Let's visualized a few images and their segmentation masks from the training data, with\n",
        "the `keras_cv.visualization.plot_segmentation_mask_gallery` API."
      ]
    },
    {
      "cell_type": "code",
      "execution_count": null,
      "metadata": {
        "id": "W2FNI6vq85IF"
      },
      "outputs": [],
      "source": [
        "plot_train_ds = train_ds.map(unpackage_inputs).ragged_batch(4)\n",
        "images, segmentation_masks = next(iter(plot_train_ds.take(1)))\n",
        "\n",
        "keras_cv.visualization.plot_segmentation_mask_gallery(\n",
        "    images,\n",
        "    value_range=(0, 1),\n",
        "    num_classes=3,\n",
        "    y_true=segmentation_masks,\n",
        "    y_pred=None,\n",
        "    scale=4,\n",
        "    rows=2,\n",
        "    cols=2,\n",
        ")"
      ]
    },
    {
      "cell_type": "markdown",
      "metadata": {
        "id": "6D8uqnDY85IF"
      },
      "source": [
        "## Data Augmentation\n",
        "\n",
        "We resize both the images and masks to the width/height as specified. Then use KerasCV's\n",
        "`RandomFlip`, `RandomRotation` and `RandAugment` to apply image augmentation of random\n",
        "flip, random rotation and RandAugment to the train dataset. Here is\n",
        "[a tutorial with more details on RandAugment](https://keras.io/examples/vision/randaugment/).\n",
        "\n",
        "We only apply the resizing operation to the validation dataset"
      ]
    },
    {
      "cell_type": "code",
      "execution_count": null,
      "metadata": {
        "id": "uvOYfXcB85IF"
      },
      "outputs": [],
      "source": [
        "resize_fn = keras_cv.layers.Resizing(\n",
        "    HEIGHT,\n",
        "    WIDTH,\n",
        ")\n",
        "\n",
        "augment_fn = keras.Sequential(\n",
        "    [\n",
        "        resize_fn,\n",
        "        keras_cv.layers.RandomFlip(),\n",
        "        keras_cv.layers.RandomRotation(\n",
        "            factor=ROTATION_FACTOR,\n",
        "            segmentation_classes=NUM_CLASSES,\n",
        "        ),\n",
        "        keras_cv.layers.RandAugment(\n",
        "            value_range=(0, 1),\n",
        "            geometric=False,\n",
        "        ),\n",
        "    ]\n",
        ")"
      ]
    },
    {
      "cell_type": "markdown",
      "metadata": {
        "id": "lMtD7XRF85IF"
      },
      "source": [
        "Create training and validation datasets."
      ]
    },
    {
      "cell_type": "code",
      "execution_count": null,
      "metadata": {
        "id": "Y_H7qVZ-85IG"
      },
      "outputs": [],
      "source": [
        "augmented_train_ds = (\n",
        "    train_ds.shuffle(BATCH_SIZE * 2)\n",
        "    .map(augment_fn, num_parallel_calls=AUTOTUNE)\n",
        "    .batch(BATCH_SIZE)\n",
        "    .map(unpackage_inputs)\n",
        "    .prefetch(buffer_size=tf.data.AUTOTUNE)\n",
        ")\n",
        "resized_val_ds = (\n",
        "    val_ds.map(resize_fn, num_parallel_calls=AUTOTUNE)\n",
        "    .batch(BATCH_SIZE)\n",
        "    .map(unpackage_inputs)\n",
        "    .prefetch(buffer_size=tf.data.AUTOTUNE)\n",
        ")"
      ]
    },
    {
      "cell_type": "markdown",
      "metadata": {
        "id": "-whMBY5P85IG"
      },
      "source": [
        "## Visualize the data\n",
        "\n",
        "Now let's again visualize a few of the images and their segmentation masks with the\n",
        "`keras_cv.visualization.plot_segmentation_mask_gallery` API. Note the effects from the\n",
        "data augmentation."
      ]
    },
    {
      "cell_type": "code",
      "execution_count": null,
      "metadata": {
        "id": "RRNJLFnC85IG"
      },
      "outputs": [],
      "source": [
        "images, segmentation_masks = next(iter(augmented_train_ds.take(1)))\n",
        "\n",
        "keras_cv.visualization.plot_segmentation_mask_gallery(\n",
        "    images,\n",
        "    value_range=(0, 1),\n",
        "    num_classes=3,\n",
        "    y_true=segmentation_masks,\n",
        "    y_pred=None,\n",
        "    scale=4,\n",
        "    rows=2,\n",
        "    cols=2,\n",
        ")"
      ]
    },
    {
      "cell_type": "markdown",
      "metadata": {
        "id": "1GLC32tU85IG"
      },
      "source": [
        "## Model architecture\n",
        "\n",
        "The U-Net consists of an encoder for downsampling and a decoder for upsampling with skip\n",
        "connections.\n",
        "\n",
        "The model architecture shapes like the letter U hence the name U-Net.\n",
        "\n",
        "![unet.png](https://i.imgur.com/PgGRty2.png)\n",
        "\n",
        "We create a function `get_model` to define a U-Net like architecture."
      ]
    },
    {
      "cell_type": "code",
      "execution_count": null,
      "metadata": {
        "id": "wM99GQp985IG"
      },
      "outputs": [],
      "source": [
        "\n",
        "def get_model(img_size, num_classes):\n",
        "    inputs = keras.Input(shape=img_size + (3,))\n",
        "\n",
        "    ### [First half of the network: downsampling inputs] ###\n",
        "\n",
        "    # Entry block\n",
        "    x = keras.layers.Conv2D(32, 3, strides=2, padding=\"same\")(inputs)\n",
        "    x = keras.layers.BatchNormalization()(x)\n",
        "    x = keras.layers.Activation(\"relu\")(x)\n",
        "\n",
        "    previous_block_activation = x  # Set aside residual\n",
        "\n",
        "    # Blocks 1, 2, 3 are identical apart from the feature depth.\n",
        "    for filters in [64, 128, 256]:\n",
        "        x = keras.layers.Activation(\"relu\")(x)\n",
        "        x = keras.layers.SeparableConv2D(filters, 3, padding=\"same\")(x)\n",
        "        x = keras.layers.BatchNormalization()(x)\n",
        "\n",
        "        x = keras.layers.Activation(\"relu\")(x)\n",
        "        x = keras.layers.SeparableConv2D(filters, 3, padding=\"same\")(x)\n",
        "        x = keras.layers.BatchNormalization()(x)\n",
        "\n",
        "        x = keras.layers.MaxPooling2D(3, strides=2, padding=\"same\")(x)\n",
        "\n",
        "        # Project residual\n",
        "        residual = keras.layers.Conv2D(filters, 1, strides=2, padding=\"same\")(\n",
        "            previous_block_activation\n",
        "        )\n",
        "        x = keras.layers.add([x, residual])  # Add back residual\n",
        "        previous_block_activation = x  # Set aside next residual\n",
        "\n",
        "    ### [Second half of the network: upsampling inputs] ###\n",
        "\n",
        "    for filters in [256, 128, 64, 32]:\n",
        "        x = keras.layers.Activation(\"relu\")(x)\n",
        "        x = keras.layers.Conv2DTranspose(filters, 3, padding=\"same\")(x)\n",
        "        x = keras.layers.BatchNormalization()(x)\n",
        "\n",
        "        x = keras.layers.Activation(\"relu\")(x)\n",
        "        x = keras.layers.Conv2DTranspose(filters, 3, padding=\"same\")(x)\n",
        "        x = keras.layers.BatchNormalization()(x)\n",
        "\n",
        "        x = keras.layers.UpSampling2D(2)(x)\n",
        "\n",
        "        # Project residual\n",
        "        residual = keras.layers.UpSampling2D(2)(previous_block_activation)\n",
        "        residual = keras.layers.Conv2D(filters, 1, padding=\"same\")(residual)\n",
        "        x = keras.layers.add([x, residual])  # Add back residual\n",
        "        previous_block_activation = x  # Set aside next residual\n",
        "\n",
        "    # Add a per-pixel classification layer\n",
        "    outputs = keras.layers.Conv2D(num_classes, 3, activation=\"softmax\", padding=\"same\")(\n",
        "        x\n",
        "    )\n",
        "\n",
        "    # Define the model\n",
        "    model = keras.Model(inputs, outputs)\n",
        "    return model\n",
        "\n",
        "\n",
        "# Taking a batch of test inputs to measure model's progress.\n",
        "test_images, test_masks = next(iter(resized_val_ds))\n"
      ]
    },
    {
      "cell_type": "markdown",
      "metadata": {
        "id": "lIiRmBXs85IH"
      },
      "source": [
        "We subclass `Callback` to monitor the model training progress: training and validation\n",
        "loss, and visually inspect the images, predicted masks and ground truth masks."
      ]
    },
    {
      "cell_type": "code",
      "execution_count": null,
      "metadata": {
        "id": "lhFEBe2285IH"
      },
      "outputs": [],
      "source": [
        "\n",
        "class DisplayCallback(keras.callbacks.Callback):\n",
        "    def __init__(self, epoch_interval=None):\n",
        "        self.epoch_interval = epoch_interval\n",
        "\n",
        "    def on_epoch_end(self, epoch, logs=None):\n",
        "        if self.epoch_interval and epoch % self.epoch_interval == 0:\n",
        "            pred_masks = self.model.predict(test_images)\n",
        "            pred_masks = tf.math.argmax(pred_masks, axis=-1)\n",
        "            pred_masks = pred_masks[..., tf.newaxis]\n",
        "\n",
        "            # Randomly select an image from the test batch\n",
        "            random_index = random.randint(0, BATCH_SIZE - 1)\n",
        "            random_image = test_images[random_index]\n",
        "            random_pred_mask = pred_masks[random_index]\n",
        "            random_true_mask = test_masks[random_index]\n",
        "\n",
        "            fig, ax = plt.subplots(nrows=1, ncols=3, figsize=(10, 5))\n",
        "            ax[0].imshow(random_image)\n",
        "            ax[0].set_title(f\"Image: {epoch:03d}\")\n",
        "\n",
        "            ax[1].imshow(random_true_mask)\n",
        "            ax[1].set_title(f\"Ground Truth Mask: {epoch:03d}\")\n",
        "\n",
        "            ax[2].imshow(random_pred_mask)\n",
        "            ax[2].set_title(\n",
        "                f\"Predicted Mask: {epoch:03d}\",\n",
        "            )\n",
        "\n",
        "            plt.show()\n",
        "            plt.close()\n",
        "\n",
        "\n",
        "callbacks = [DisplayCallback(5)]"
      ]
    },
    {
      "cell_type": "markdown",
      "metadata": {
        "id": "BeFM-X-t85IH"
      },
      "source": [
        "## Train the model\n",
        "\n",
        "Now let's create the model, compile and train it for 50 epochs by calling `model.fit()`."
      ]
    },
    {
      "cell_type": "code",
      "execution_count": null,
      "metadata": {
        "id": "qjkTjxl185IH"
      },
      "outputs": [],
      "source": [
        "# Build model\n",
        "model = get_model(img_size=(HEIGHT, WIDTH), num_classes=NUM_CLASSES)\n",
        "\n",
        "model.compile(\n",
        "    optimizer=keras.optimizers.Adam(LEARNING_RATE),\n",
        "    loss=\"sparse_categorical_crossentropy\",\n",
        "    metrics=[\"accuracy\"],\n",
        ")\n",
        "\n",
        "# Train the model, doing validation at the end of each epoch.\n",
        "history = model.fit(\n",
        "    augmented_train_ds,\n",
        "    epochs=EPOCHS,\n",
        "    validation_data=resized_val_ds,\n",
        "    callbacks=callbacks,\n",
        ")"
      ]
    },
    {
      "cell_type": "markdown",
      "metadata": {
        "id": "PY2jNQ_s85II"
      },
      "source": [
        "## Prediction with trained model\n",
        "Now that the model training of U-Net has completed, let's test it by making predications\n",
        "on a few sample images."
      ]
    },
    {
      "cell_type": "code",
      "execution_count": null,
      "metadata": {
        "id": "L5KNJ-jd85II"
      },
      "outputs": [],
      "source": [
        "pred_masks = model.predict(test_images)\n",
        "pred_masks = tf.math.argmax(pred_masks, axis=-1)[..., None]\n",
        "\n",
        "keras_cv.visualization.plot_segmentation_mask_gallery(\n",
        "    test_images,\n",
        "    value_range=(0, 1),\n",
        "    num_classes=3,\n",
        "    y_true=test_masks,\n",
        "    y_pred=pred_masks,\n",
        "    scale=4,\n",
        "    rows=2,\n",
        "    cols=2,\n",
        ")"
      ]
    },
    {
      "cell_type": "markdown",
      "metadata": {
        "id": "O0_HsKjy85II"
      },
      "source": [
        "## Acknowledgements\n",
        "\n",
        "We would like to thank [Martin Gorner](https://twitter.com/martin_gorner) for his thorough review.\n",
        "Google Cloud credits were provided for this project."
      ]
    }
  ],
  "metadata": {
    "accelerator": "GPU",
    "colab": {
      "name": "oxford_pets_image_segmentation",
      "provenance": [],
      "toc_visible": true
    },
    "kernelspec": {
      "display_name": "Python 3 (ipykernel)",
      "language": "python",
      "name": "python3"
    },
    "language_info": {
      "codemirror_mode": {
        "name": "ipython",
        "version": 3
      },
      "file_extension": ".py",
      "mimetype": "text/x-python",
      "name": "python",
      "nbconvert_exporter": "python",
      "pygments_lexer": "ipython3",
      "version": "3.9.12"
    }
  },
  "nbformat": 4,
  "nbformat_minor": 0
}
